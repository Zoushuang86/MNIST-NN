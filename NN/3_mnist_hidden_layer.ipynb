{
 "cells": [
  {
   "cell_type": "code",
   "execution_count": 1,
   "metadata": {},
   "outputs": [],
   "source": [
    "\"\"\"A very simple MNIST classifier.\n",
    "See extensive documentation at\n",
    "https://www.tensorflow.org/get_started/mnist/beginners\n",
    "\"\"\"\n",
    "from __future__ import absolute_import\n",
    "from __future__ import division\n",
    "from __future__ import print_function\n",
    "\n",
    "import argparse\n",
    "import sys\n",
    "\n",
    "from tensorflow.examples.tutorials.mnist import input_data\n",
    "\n",
    "import tensorflow as tf\n",
    "\n",
    "FLAGS = None"
   ]
  },
  {
   "cell_type": "code",
   "execution_count": 2,
   "metadata": {},
   "outputs": [
    {
     "name": "stdout",
     "output_type": "stream",
     "text": [
      "Extracting /tmp/tensorflow/mnist/input_data\\train-images-idx3-ubyte.gz\n",
      "Extracting /tmp/tensorflow/mnist/input_data\\train-labels-idx1-ubyte.gz\n",
      "Extracting /tmp/tensorflow/mnist/input_data\\t10k-images-idx3-ubyte.gz\n",
      "Extracting /tmp/tensorflow/mnist/input_data\\t10k-labels-idx1-ubyte.gz\n"
     ]
    }
   ],
   "source": [
    "# Import data\n",
    "data_dir = '/tmp/tensorflow/mnist/input_data'\n",
    "mnist = input_data.read_data_sets(data_dir, one_hot=True)"
   ]
  },
  {
   "cell_type": "markdown",
   "metadata": {},
   "source": [
    "### 增加一个隐层，并设置隐层的神经元数量1024个"
   ]
  },
  {
   "cell_type": "code",
   "execution_count": 3,
   "metadata": {},
   "outputs": [],
   "source": [
    "# Create the model\n",
    "x = tf.placeholder(tf.float32, [None, 784])\n",
    "w_h = tf.Variable(tf.zeros([784, 1024]))\n",
    "b_h = tf.Variable(tf.zeros([1024]))\n",
    "w_o = tf.Variable(tf.zeros([1024,10]))\n",
    "b_o = tf.Variable(tf.zeros([10]))\n",
    "h = tf.nn.sigmoid(tf.matmul(x,w_h) + b_h)\n",
    "y = tf.matmul(h, w_o) + b_o"
   ]
  },
  {
   "cell_type": "code",
   "execution_count": 4,
   "metadata": {},
   "outputs": [],
   "source": [
    "# Define loss and optimizer\n",
    "y_ = tf.placeholder(tf.float32, [None, 10])"
   ]
  },
  {
   "cell_type": "code",
   "execution_count": 5,
   "metadata": {},
   "outputs": [
    {
     "name": "stdout",
     "output_type": "stream",
     "text": [
      "WARNING:tensorflow:From <ipython-input-5-1a4a27926ee7>:3: softmax_cross_entropy_with_logits (from tensorflow.python.ops.nn_ops) is deprecated and will be removed in a future version.\n",
      "Instructions for updating:\n",
      "\n",
      "Future major versions of TensorFlow will allow gradients to flow\n",
      "into the labels input on backprop by default.\n",
      "\n",
      "See tf.nn.softmax_cross_entropy_with_logits_v2.\n",
      "\n"
     ]
    }
   ],
   "source": [
    "# 计算交叉熵\n",
    "cross_entropy = tf.reduce_mean(\n",
    "    tf.nn.softmax_cross_entropy_with_logits(labels=y_, logits=y)) #有激活函数logits"
   ]
  },
  {
   "cell_type": "code",
   "execution_count": 6,
   "metadata": {},
   "outputs": [],
   "source": [
    "#生成训练的一个step\n",
    "#默认学习率为0.5\n",
    "train_step = tf.train.GradientDescentOptimizer(0.5).minimize(cross_entropy)\n",
    "\n",
    "sess = tf.Session()\n",
    "init_op = tf.global_variables_initializer()\n",
    "sess.run(init_op)"
   ]
  },
  {
   "cell_type": "code",
   "execution_count": 7,
   "metadata": {},
   "outputs": [
    {
     "name": "stdout",
     "output_type": "stream",
     "text": [
      "0 0.07\n",
      "100 0.24\n",
      "200 0.18\n",
      "300 0.24\n",
      "400 0.24\n",
      "500 0.24\n",
      "600 0.27\n",
      "700 0.33\n",
      "800 0.48\n",
      "900 0.44\n",
      "1000 0.43\n",
      "1100 0.48\n",
      "1200 0.46\n",
      "1300 0.5\n",
      "1400 0.43\n",
      "1500 0.52\n",
      "1600 0.47\n",
      "1700 0.53\n",
      "1800 0.51\n",
      "1900 0.49\n",
      "2000 0.53\n",
      "2100 0.52\n",
      "2200 0.64\n",
      "2300 0.62\n",
      "2400 0.55\n",
      "2500 0.62\n",
      "2600 0.55\n",
      "2700 0.5\n",
      "2800 0.56\n",
      "2900 0.51\n"
     ]
    }
   ],
   "source": [
    "# 训练数据\n",
    "for _ in range(3000):\n",
    "    batch_xs, batch_ys = mnist.train.next_batch(100)\n",
    "    correct_prediction = tf.equal(tf.argmax(y, 1), tf.argmax(y_, 1))\n",
    "    accuracy = tf.reduce_mean(tf.cast(correct_prediction, tf.float32))\n",
    "    train_step_value, accuracy_value = sess.run([train_step, accuracy], feed_dict={x: batch_xs, y_: batch_ys})\n",
    "    #每迭代100次输出指标\n",
    "    if _%100 ==0:\n",
    "        print(_,accuracy_value)"
   ]
  },
  {
   "cell_type": "code",
   "execution_count": 8,
   "metadata": {},
   "outputs": [
    {
     "name": "stdout",
     "output_type": "stream",
     "text": [
      "0.5534\n"
     ]
    }
   ],
   "source": [
    "# 测试模型\n",
    "correct_prediction = tf.equal(tf.argmax(y, 1), tf.argmax(y_, 1))\n",
    "accuracy = tf.reduce_mean(tf.cast(correct_prediction, tf.float32))\n",
    "print(sess.run(accuracy, feed_dict={x: mnist.test.images,\n",
    "                                      y_: mnist.test.labels}))"
   ]
  },
  {
   "cell_type": "markdown",
   "metadata": {},
   "source": [
    "### 比原始模型还要差一些，将神经元个数减半，为512个"
   ]
  },
  {
   "cell_type": "code",
   "execution_count": 9,
   "metadata": {},
   "outputs": [],
   "source": [
    "# Create the model\n",
    "x = tf.placeholder(tf.float32, [None, 784])\n",
    "w_h = tf.Variable(tf.zeros([784, 512]))\n",
    "b_h = tf.Variable(tf.zeros([512]))\n",
    "w_o = tf.Variable(tf.zeros([512,10]))\n",
    "b_o = tf.Variable(tf.zeros([10]))\n",
    "h = tf.nn.sigmoid(tf.matmul(x,w_h) + b_h)\n",
    "y = tf.matmul(h, w_o) + b_o"
   ]
  },
  {
   "cell_type": "code",
   "execution_count": 10,
   "metadata": {},
   "outputs": [],
   "source": [
    "# Define loss and optimizer\n",
    "y_ = tf.placeholder(tf.float32, [None, 10])"
   ]
  },
  {
   "cell_type": "code",
   "execution_count": 11,
   "metadata": {},
   "outputs": [],
   "source": [
    "# 计算交叉熵\n",
    "cross_entropy = tf.reduce_mean(\n",
    "    tf.nn.softmax_cross_entropy_with_logits(labels=y_, logits=y)) #有激活函数logits"
   ]
  },
  {
   "cell_type": "code",
   "execution_count": 12,
   "metadata": {},
   "outputs": [],
   "source": [
    "#生成训练的一个step\n",
    "#默认学习率为0.5\n",
    "train_step = tf.train.GradientDescentOptimizer(0.5).minimize(cross_entropy)\n",
    "\n",
    "sess = tf.Session()\n",
    "init_op = tf.global_variables_initializer()\n",
    "sess.run(init_op)"
   ]
  },
  {
   "cell_type": "code",
   "execution_count": 13,
   "metadata": {},
   "outputs": [
    {
     "name": "stdout",
     "output_type": "stream",
     "text": [
      "0 0.09\n",
      "100 0.1\n",
      "200 0.16\n",
      "300 0.26\n",
      "400 0.23\n",
      "500 0.24\n",
      "600 0.33\n",
      "700 0.4\n",
      "800 0.47\n",
      "900 0.48\n",
      "1000 0.53\n",
      "1100 0.44\n",
      "1200 0.58\n",
      "1300 0.55\n",
      "1400 0.45\n",
      "1500 0.59\n",
      "1600 0.58\n",
      "1700 0.58\n",
      "1800 0.58\n",
      "1900 0.55\n",
      "2000 0.55\n",
      "2100 0.49\n",
      "2200 0.58\n",
      "2300 0.54\n",
      "2400 0.59\n",
      "2500 0.56\n",
      "2600 0.55\n",
      "2700 0.58\n",
      "2800 0.6\n",
      "2900 0.55\n"
     ]
    }
   ],
   "source": [
    "# 训练数据\n",
    "for _ in range(3000):\n",
    "    batch_xs, batch_ys = mnist.train.next_batch(100)\n",
    "    correct_prediction = tf.equal(tf.argmax(y, 1), tf.argmax(y_, 1))\n",
    "    accuracy = tf.reduce_mean(tf.cast(correct_prediction, tf.float32))\n",
    "    train_step_value, accuracy_value = sess.run([train_step, accuracy], feed_dict={x: batch_xs, y_: batch_ys})\n",
    "    #每迭代100次输出指标\n",
    "    if _%100 ==0:\n",
    "        print(_,accuracy_value)"
   ]
  },
  {
   "cell_type": "code",
   "execution_count": 14,
   "metadata": {},
   "outputs": [
    {
     "name": "stdout",
     "output_type": "stream",
     "text": [
      "0.5638\n"
     ]
    }
   ],
   "source": [
    "# 测试模型\n",
    "correct_prediction = tf.equal(tf.argmax(y, 1), tf.argmax(y_, 1))\n",
    "accuracy = tf.reduce_mean(tf.cast(correct_prediction, tf.float32))\n",
    "print(sess.run(accuracy, feed_dict={x: mnist.test.images,\n",
    "                                      y_: mnist.test.labels}))"
   ]
  },
  {
   "cell_type": "markdown",
   "metadata": {},
   "source": [
    "### 比1024个神经元的模型略好，神经元再减半为256"
   ]
  },
  {
   "cell_type": "code",
   "execution_count": 16,
   "metadata": {},
   "outputs": [
    {
     "name": "stdout",
     "output_type": "stream",
     "text": [
      "0 0.12\n",
      "100 0.17\n",
      "200 0.29\n",
      "300 0.2\n",
      "400 0.29\n",
      "500 0.29\n",
      "600 0.29\n",
      "700 0.31\n",
      "800 0.23\n",
      "900 0.31\n",
      "1000 0.46\n",
      "1100 0.37\n",
      "1200 0.31\n",
      "1300 0.42\n",
      "1400 0.34\n",
      "1500 0.38\n",
      "1600 0.26\n",
      "1700 0.41\n",
      "1800 0.32\n",
      "1900 0.43\n",
      "2000 0.33\n",
      "2100 0.28\n",
      "2200 0.36\n",
      "2300 0.39\n",
      "2400 0.29\n",
      "2500 0.26\n",
      "2600 0.36\n",
      "2700 0.34\n",
      "2800 0.34\n",
      "2900 0.33\n",
      "0.3519\n"
     ]
    }
   ],
   "source": [
    "# Create the model\n",
    "# 权值初始化改变\n",
    "x = tf.placeholder(tf.float32, [None, 784])\n",
    "# w_h = tf.Variable(tf.random_normal([784, 256],stddev=0.01))\n",
    "w_h = tf.Variable(tf.zeros([784, 256]))\n",
    "b_h = tf.Variable(tf.zeros([256]))\n",
    "w_o = tf.Variable(tf.zeros([256, 10]))\n",
    "b_o = tf.Variable(tf.zeros([10]))\n",
    "h = tf.nn.sigmoid(tf.matmul(x,w_h) + b_h)\n",
    "y = tf.matmul(h, w_o) + b_o\n",
    "# Define loss and optimizer\n",
    "y_ = tf.placeholder(tf.float32, [None, 10])\n",
    "# 计算交叉熵\n",
    "cross_entropy = tf.reduce_mean(\n",
    "    tf.nn.softmax_cross_entropy_with_logits(labels=y_, logits=y)) #有激活函数logits\n",
    "#生成训练的一个step\n",
    "train_step = tf.train.GradientDescentOptimizer(0.5).minimize(cross_entropy)\n",
    "\n",
    "sess = tf.Session()\n",
    "init_op = tf.global_variables_initializer()\n",
    "sess.run(init_op)\n",
    "# 训练数据\n",
    "for _ in range(3000):\n",
    "    batch_xs, batch_ys = mnist.train.next_batch(100)\n",
    "    correct_prediction = tf.equal(tf.argmax(y, 1), tf.argmax(y_, 1))\n",
    "    accuracy = tf.reduce_mean(tf.cast(correct_prediction, tf.float32))\n",
    "    train_step_value, accuracy_value = sess.run([train_step, accuracy], feed_dict={x: batch_xs, y_: batch_ys})\n",
    "    #每迭代100次输出指标\n",
    "    if _%100 ==0:\n",
    "        print(_,accuracy_value)\n",
    "\n",
    "# 测试模型\n",
    "correct_prediction = tf.equal(tf.argmax(y, 1), tf.argmax(y_, 1))\n",
    "accuracy = tf.reduce_mean(tf.cast(correct_prediction, tf.float32))\n",
    "print(sess.run(accuracy, feed_dict={x: mnist.test.images,\n",
    "                                      y_: mnist.test.labels}))"
   ]
  },
  {
   "cell_type": "markdown",
   "metadata": {},
   "source": [
    "#### 使用256个神经元比512个要差很多，暂定神经元个数为512"
   ]
  },
  {
   "cell_type": "markdown",
   "metadata": {},
   "source": [
    "### 测试使用relu激活函数，若此时权值偏移量初始化为0 ，很有可能导致神经元死亡，所以权值偏移量初始化改变"
   ]
  },
  {
   "cell_type": "code",
   "execution_count": 3,
   "metadata": {},
   "outputs": [
    {
     "name": "stdout",
     "output_type": "stream",
     "text": [
      "WARNING:tensorflow:From <ipython-input-3-b398011b1c88>:14: softmax_cross_entropy_with_logits (from tensorflow.python.ops.nn_ops) is deprecated and will be removed in a future version.\n",
      "Instructions for updating:\n",
      "\n",
      "Future major versions of TensorFlow will allow gradients to flow\n",
      "into the labels input on backprop by default.\n",
      "\n",
      "See tf.nn.softmax_cross_entropy_with_logits_v2.\n",
      "\n",
      "第0次，准确率为：0.49000000953674316\n",
      "第100次，准确率为：0.9900000095367432\n",
      "第200次，准确率为：0.9399999976158142\n",
      "第300次，准确率为：1.0\n",
      "第400次，准确率为：0.9800000190734863\n",
      "第500次，准确率为：0.9900000095367432\n",
      "第600次，准确率为：1.0\n",
      "第700次，准确率为：1.0\n",
      "第800次，准确率为：1.0\n",
      "第900次，准确率为：1.0\n",
      "第1000次，准确率为：0.9900000095367432\n",
      "第1100次，准确率为：1.0\n",
      "第1200次，准确率为：1.0\n",
      "第1300次，准确率为：1.0\n",
      "第1400次，准确率为：1.0\n",
      "第1500次，准确率为：1.0\n",
      "第1600次，准确率为：1.0\n",
      "第1700次，准确率为：1.0\n",
      "第1800次，准确率为：1.0\n",
      "第1900次，准确率为：0.9900000095367432\n",
      "第2000次，准确率为：1.0\n",
      "第2100次，准确率为：1.0\n",
      "第2200次，准确率为：1.0\n",
      "第2300次，准确率为：1.0\n",
      "第2400次，准确率为：1.0\n",
      "第2500次，准确率为：1.0\n",
      "第2600次，准确率为：1.0\n",
      "第2700次，准确率为：1.0\n",
      "第2800次，准确率为：1.0\n",
      "第2900次，准确率为：1.0\n"
     ]
    }
   ],
   "source": [
    "# Create the model\n",
    "# 权值初始化改变\n",
    "x = tf.placeholder(tf.float32, [None, 784])\n",
    "w_h = tf.Variable(tf.truncated_normal([784, 512],stddev=0.1))\n",
    "b_h = tf.Variable(tf.constant(0.1,shape=[512]))\n",
    "w_o = tf.Variable(tf.truncated_normal([512, 10],stddev=0.1))\n",
    "b_o = tf.Variable(tf.constant(0.1,shape=[10]))\n",
    "h = tf.nn.relu(tf.matmul(x,w_h) + b_h)\n",
    "y = tf.matmul(h, w_o) + b_o\n",
    "# Define loss and optimizer\n",
    "y_ = tf.placeholder(tf.float32, [None, 10])\n",
    "# 计算交叉熵\n",
    "cross_entropy = tf.reduce_mean(\n",
    "    tf.nn.softmax_cross_entropy_with_logits(labels=y_, logits=y)) #有激活函数logits\n",
    "#生成训练的一个step\n",
    "train_step = tf.train.GradientDescentOptimizer(0.5).minimize(cross_entropy)\n",
    "\n",
    "sess = tf.Session()\n",
    "init_op = tf.global_variables_initializer()\n",
    "sess.run(init_op)\n",
    "# 训练数据\n",
    "step = 0\n",
    "# while True:\n",
    "for step in range(3000):\n",
    "    batch_xs, batch_ys = mnist.train.next_batch(100)\n",
    "    sess.run(train_step, feed_dict={x: batch_xs, y_: batch_ys})\n",
    "#     _,accuracy_value = sess.run([train_step,accuracy], feed_dict={x: batch_xs, y_: batch_ys})\n",
    "    #每迭代100次输出指标\n",
    "    if step%100 == 0:\n",
    "        correct_prediction = tf.equal(tf.argmax(y, 1), tf.argmax(y_, 1))\n",
    "        accuracy = tf.reduce_mean(tf.cast(correct_prediction, tf.float32))\n",
    "        accuracy_value = sess.run(accuracy, feed_dict={x: batch_xs, y_: batch_ys})\n",
    "        print(\"第{}次，准确率为：{}\".format(step,accuracy_value))\n",
    "        \n",
    "#         if accuracy_value > 0.98:\n",
    "#             break\n",
    "            \n",
    "#     step += 1"
   ]
  },
  {
   "cell_type": "code",
   "execution_count": 4,
   "metadata": {},
   "outputs": [
    {
     "name": "stdout",
     "output_type": "stream",
     "text": [
      "0.9797\n"
     ]
    }
   ],
   "source": [
    "# 测试模型\n",
    "correct_prediction = tf.equal(tf.argmax(y, 1), tf.argmax(y_, 1))\n",
    "accuracy = tf.reduce_mean(tf.cast(correct_prediction, tf.float32))\n",
    "print(sess.run(accuracy, feed_dict={x: mnist.test.images, y_: mnist.test.labels}))"
   ]
  },
  {
   "cell_type": "markdown",
   "metadata": {},
   "source": [
    "### 现在已经达到准确率0.9797，下面增加正则项，以防模型过于复杂"
   ]
  },
  {
   "cell_type": "markdown",
   "metadata": {},
   "source": [
    "#### 正则项超参数先设置为0.01"
   ]
  },
  {
   "cell_type": "code",
   "execution_count": 41,
   "metadata": {},
   "outputs": [
    {
     "name": "stdout",
     "output_type": "stream",
     "text": [
      "第0次，准确率为：0.4300000071525574\n",
      "第100次，准确率为：0.9100000262260437\n",
      "第200次，准确率为：0.8399999737739563\n",
      "第300次，准确率为：0.9100000262260437\n",
      "第400次，准确率为：0.9300000071525574\n",
      "第500次，准确率为：0.9300000071525574\n",
      "第600次，准确率为：0.9599999785423279\n",
      "第700次，准确率为：0.9599999785423279\n",
      "第800次，准确率为：0.949999988079071\n",
      "第900次，准确率为：0.9800000190734863\n",
      "第1000次，准确率为：0.9700000286102295\n",
      "第1100次，准确率为：0.9200000166893005\n",
      "第1200次，准确率为：0.9399999976158142\n",
      "第1300次，准确率为：0.9800000190734863\n",
      "第1400次，准确率为：0.949999988079071\n",
      "第1500次，准确率为：0.9599999785423279\n",
      "第1600次，准确率为：0.9900000095367432\n",
      "第1700次，准确率为：0.949999988079071\n",
      "第1800次，准确率为：0.9300000071525574\n",
      "第1900次，准确率为：0.8999999761581421\n",
      "第2000次，准确率为：0.9599999785423279\n",
      "第2100次，准确率为：0.9300000071525574\n",
      "第2200次，准确率为：0.9700000286102295\n",
      "第2300次，准确率为：0.9300000071525574\n",
      "第2400次，准确率为：0.9700000286102295\n",
      "第2500次，准确率为：0.9399999976158142\n",
      "第2600次，准确率为：0.9100000262260437\n",
      "第2700次，准确率为：0.9399999976158142\n",
      "第2800次，准确率为：0.949999988079071\n",
      "第2900次，准确率为：0.949999988079071\n"
     ]
    }
   ],
   "source": [
    "# Create the model\n",
    "# 权值初始化改变\n",
    "x = tf.placeholder(tf.float32, [None, 784])\n",
    "w_h = tf.Variable(tf.truncated_normal([784, 512],stddev=0.1))\n",
    "b_h = tf.Variable(tf.constant(0.1,shape=[512]))\n",
    "w_o = tf.Variable(tf.truncated_normal([512, 10],stddev=0.1))\n",
    "b_o = tf.Variable(tf.constant(0.1,shape=[10]))\n",
    "h = tf.nn.relu(tf.matmul(x,w_h) + b_h)\n",
    "y = tf.matmul(h, w_o) + b_o\n",
    "# Define loss and optimizer\n",
    "y_ = tf.placeholder(tf.float32, [None, 10])\n",
    "# 计算交叉熵\n",
    "cross_entropy=tf.reduce_mean(tf.nn.softmax_cross_entropy_with_logits(labels=y_,logits=y))+tf.contrib.layers.l2_regularizer(0.01)(w_h)+tf.contrib.layers.l2_regularizer(0.01)(w_o)\n",
    "#生成训练的一个step\n",
    "train_step = tf.train.GradientDescentOptimizer(0.5).minimize(cross_entropy)\n",
    "\n",
    "sess = tf.Session()\n",
    "init_op = tf.global_variables_initializer()\n",
    "sess.run(init_op)\n",
    "# 训练数据\n",
    "step = 0\n",
    "# while True:\n",
    "for step in range(3000):\n",
    "    batch_xs, batch_ys = mnist.train.next_batch(100)\n",
    "    sess.run(train_step, feed_dict={x: batch_xs, y_: batch_ys})\n",
    "    #每迭代100次输出指标\n",
    "    if step%100 == 0:\n",
    "        correct_prediction = tf.equal(tf.argmax(y, 1), tf.argmax(y_, 1))\n",
    "        accuracy = tf.reduce_mean(tf.cast(correct_prediction, tf.float32))\n",
    "        accuracy_value = sess.run(accuracy, feed_dict={x: batch_xs, y_: batch_ys})\n",
    "        print(\"第{}次，准确率为：{}\".format(step,accuracy_value))\n",
    "        \n",
    "#         if accuracy_value > 0.98:\n",
    "#             break\n",
    "            \n",
    "#     step += 1"
   ]
  },
  {
   "cell_type": "code",
   "execution_count": 42,
   "metadata": {},
   "outputs": [
    {
     "name": "stdout",
     "output_type": "stream",
     "text": [
      "0.9282\n"
     ]
    }
   ],
   "source": [
    "# 测试模型\n",
    "correct_prediction = tf.equal(tf.argmax(y, 1), tf.argmax(y_, 1))\n",
    "accuracy = tf.reduce_mean(tf.cast(correct_prediction, tf.float32))\n",
    "print(sess.run(accuracy, feed_dict={x: mnist.test.images, y_: mnist.test.labels}))"
   ]
  },
  {
   "cell_type": "markdown",
   "metadata": {},
   "source": [
    "#### 减小正则项超参数，设置为0.001"
   ]
  },
  {
   "cell_type": "code",
   "execution_count": 43,
   "metadata": {},
   "outputs": [
    {
     "name": "stdout",
     "output_type": "stream",
     "text": [
      "第0次，准确率为：0.14000000059604645\n",
      "第100次，准确率为：0.9700000286102295\n",
      "第200次，准确率为：0.9900000095367432\n",
      "第300次，准确率为：1.0\n",
      "第400次，准确率为：1.0\n",
      "第500次，准确率为：0.9900000095367432\n",
      "第600次，准确率为：1.0\n",
      "第700次，准确率为：1.0\n",
      "第800次，准确率为：0.9700000286102295\n",
      "第900次，准确率为：0.9800000190734863\n",
      "第1000次，准确率为：1.0\n",
      "第1100次，准确率为：0.9900000095367432\n",
      "第1200次，准确率为：1.0\n",
      "第1300次，准确率为：0.9900000095367432\n",
      "第1400次，准确率为：1.0\n",
      "第1500次，准确率为：0.9700000286102295\n",
      "第1600次，准确率为：1.0\n",
      "第1700次，准确率为：1.0\n",
      "第1800次，准确率为：0.9900000095367432\n",
      "第1900次，准确率为：1.0\n",
      "第2000次，准确率为：0.9900000095367432\n",
      "第2100次，准确率为：1.0\n",
      "第2200次，准确率为：1.0\n",
      "第2300次，准确率为：1.0\n",
      "第2400次，准确率为：1.0\n",
      "第2500次，准确率为：0.9900000095367432\n",
      "第2600次，准确率为：0.9900000095367432\n",
      "第2700次，准确率为：1.0\n",
      "第2800次，准确率为：0.9900000095367432\n",
      "第2900次，准确率为：0.9900000095367432\n"
     ]
    }
   ],
   "source": [
    "# Create the model\n",
    "# 权值初始化改变\n",
    "x = tf.placeholder(tf.float32, [None, 784])\n",
    "w_h = tf.Variable(tf.truncated_normal([784, 512],stddev=0.1))\n",
    "b_h = tf.Variable(tf.constant(0.1,shape=[512]))\n",
    "w_o = tf.Variable(tf.truncated_normal([512, 10],stddev=0.1))\n",
    "b_o = tf.Variable(tf.constant(0.1,shape=[10]))\n",
    "h = tf.nn.relu(tf.matmul(x,w_h) + b_h)\n",
    "y = tf.matmul(h, w_o) + b_o\n",
    "# Define loss and optimizer\n",
    "y_ = tf.placeholder(tf.float32, [None, 10])\n",
    "# 计算交叉熵\n",
    "cross_entropy=tf.reduce_mean(tf.nn.softmax_cross_entropy_with_logits(labels=y_,logits=y))+tf.contrib.layers.l2_regularizer(0.001)(w_h)+tf.contrib.layers.l2_regularizer(0.001)(w_o)\n",
    "#生成训练的一个step\n",
    "train_step = tf.train.GradientDescentOptimizer(0.5).minimize(cross_entropy)\n",
    "\n",
    "sess = tf.Session()\n",
    "init_op = tf.global_variables_initializer()\n",
    "sess.run(init_op)\n",
    "# 训练数据\n",
    "step = 0\n",
    "# while True:\n",
    "for step in range(3000):\n",
    "    batch_xs, batch_ys = mnist.train.next_batch(100)\n",
    "    sess.run(train_step, feed_dict={x: batch_xs, y_: batch_ys})\n",
    "    #每迭代100次输出指标\n",
    "    if step%100 == 0:\n",
    "        correct_prediction = tf.equal(tf.argmax(y, 1), tf.argmax(y_, 1))\n",
    "        accuracy = tf.reduce_mean(tf.cast(correct_prediction, tf.float32))\n",
    "        accuracy_value = sess.run(accuracy, feed_dict={x: batch_xs, y_: batch_ys})\n",
    "        print(\"第{}次，准确率为：{}\".format(step,accuracy_value))"
   ]
  },
  {
   "cell_type": "code",
   "execution_count": 44,
   "metadata": {},
   "outputs": [
    {
     "name": "stdout",
     "output_type": "stream",
     "text": [
      "0.9753\n"
     ]
    }
   ],
   "source": [
    "# 测试模型\n",
    "correct_prediction = tf.equal(tf.argmax(y, 1), tf.argmax(y_, 1))\n",
    "accuracy = tf.reduce_mean(tf.cast(correct_prediction, tf.float32))\n",
    "print(sess.run(accuracy, feed_dict={x: mnist.test.images, y_: mnist.test.labels}))"
   ]
  },
  {
   "cell_type": "markdown",
   "metadata": {},
   "source": [
    "#### 再次减小正则项超参数，设置为0.001"
   ]
  },
  {
   "cell_type": "code",
   "execution_count": 45,
   "metadata": {},
   "outputs": [
    {
     "name": "stdout",
     "output_type": "stream",
     "text": [
      "第0次，准确率为：0.23000000417232513\n",
      "第100次，准确率为：0.9599999785423279\n",
      "第200次，准确率为：1.0\n",
      "第300次，准确率为：0.9800000190734863\n",
      "第400次，准确率为：1.0\n",
      "第500次，准确率为：0.9900000095367432\n",
      "第600次，准确率为：1.0\n",
      "第700次，准确率为：0.9900000095367432\n",
      "第800次，准确率为：1.0\n",
      "第900次，准确率为：1.0\n",
      "第1000次，准确率为：1.0\n",
      "第1100次，准确率为：1.0\n",
      "第1200次，准确率为：0.9900000095367432\n",
      "第1300次，准确率为：1.0\n",
      "第1400次，准确率为：1.0\n",
      "第1500次，准确率为：1.0\n",
      "第1600次，准确率为：1.0\n",
      "第1700次，准确率为：1.0\n",
      "第1800次，准确率为：1.0\n",
      "第1900次，准确率为：1.0\n",
      "第2000次，准确率为：1.0\n",
      "第2100次，准确率为：1.0\n",
      "第2200次，准确率为：1.0\n",
      "第2300次，准确率为：1.0\n",
      "第2400次，准确率为：1.0\n",
      "第2500次，准确率为：1.0\n",
      "第2600次，准确率为：1.0\n",
      "第2700次，准确率为：1.0\n",
      "第2800次，准确率为：1.0\n",
      "第2900次，准确率为：1.0\n"
     ]
    }
   ],
   "source": [
    "# Create the model\n",
    "# 权值初始化改变\n",
    "x = tf.placeholder(tf.float32, [None, 784])\n",
    "w_h = tf.Variable(tf.truncated_normal([784, 512],stddev=0.1))\n",
    "b_h = tf.Variable(tf.constant(0.1,shape=[512]))\n",
    "w_o = tf.Variable(tf.truncated_normal([512, 10],stddev=0.1))\n",
    "b_o = tf.Variable(tf.constant(0.1,shape=[10]))\n",
    "h = tf.nn.relu(tf.matmul(x,w_h) + b_h)\n",
    "y = tf.matmul(h, w_o) + b_o\n",
    "# Define loss and optimizer\n",
    "y_ = tf.placeholder(tf.float32, [None, 10])\n",
    "# 计算交叉熵\n",
    "cross_entropy=tf.reduce_mean(tf.nn.softmax_cross_entropy_with_logits(labels=y_,logits=y))+tf.contrib.layers.l2_regularizer(0.0001)(w_h)+tf.contrib.layers.l2_regularizer(0.0001)(w_o)\n",
    "#生成训练的一个step\n",
    "train_step = tf.train.GradientDescentOptimizer(0.5).minimize(cross_entropy)\n",
    "\n",
    "sess = tf.Session()\n",
    "init_op = tf.global_variables_initializer()\n",
    "sess.run(init_op)\n",
    "# 训练数据\n",
    "step = 0\n",
    "# while True:\n",
    "for step in range(3000):\n",
    "    batch_xs, batch_ys = mnist.train.next_batch(100)\n",
    "    sess.run(train_step, feed_dict={x: batch_xs, y_: batch_ys})\n",
    "    #每迭代100次输出指标\n",
    "    if step%100 == 0:\n",
    "        correct_prediction = tf.equal(tf.argmax(y, 1), tf.argmax(y_, 1))\n",
    "        accuracy = tf.reduce_mean(tf.cast(correct_prediction, tf.float32))\n",
    "        accuracy_value = sess.run(accuracy, feed_dict={x: batch_xs, y_: batch_ys})\n",
    "        print(\"第{}次，准确率为：{}\".format(step,accuracy_value))"
   ]
  },
  {
   "cell_type": "code",
   "execution_count": 46,
   "metadata": {},
   "outputs": [
    {
     "name": "stdout",
     "output_type": "stream",
     "text": [
      "0.9795\n"
     ]
    }
   ],
   "source": [
    "# 测试模型\n",
    "correct_prediction = tf.equal(tf.argmax(y, 1), tf.argmax(y_, 1))\n",
    "accuracy = tf.reduce_mean(tf.cast(correct_prediction, tf.float32))\n",
    "print(sess.run(accuracy, feed_dict={x: mnist.test.images, y_: mnist.test.labels}))"
   ]
  },
  {
   "cell_type": "markdown",
   "metadata": {},
   "source": [
    "#### 减小正则项超参数，设置为0.00001"
   ]
  },
  {
   "cell_type": "code",
   "execution_count": 47,
   "metadata": {},
   "outputs": [
    {
     "name": "stdout",
     "output_type": "stream",
     "text": [
      "第0次，准确率为：0.41999998688697815\n",
      "第100次，准确率为：0.9800000190734863\n",
      "第200次，准确率为：0.9800000190734863\n",
      "第300次，准确率为：0.9800000190734863\n",
      "第400次，准确率为：1.0\n",
      "第500次，准确率为：1.0\n",
      "第600次，准确率为：0.9800000190734863\n",
      "第700次，准确率为：0.9900000095367432\n",
      "第800次，准确率为：1.0\n",
      "第900次，准确率为：1.0\n",
      "第1000次，准确率为：1.0\n",
      "第1100次，准确率为：1.0\n",
      "第1200次，准确率为：1.0\n",
      "第1300次，准确率为：1.0\n",
      "第1400次，准确率为：1.0\n",
      "第1500次，准确率为：1.0\n",
      "第1600次，准确率为：1.0\n",
      "第1700次，准确率为：1.0\n",
      "第1800次，准确率为：1.0\n",
      "第1900次，准确率为：1.0\n",
      "第2000次，准确率为：1.0\n",
      "第2100次，准确率为：1.0\n",
      "第2200次，准确率为：1.0\n",
      "第2300次，准确率为：1.0\n",
      "第2400次，准确率为：1.0\n",
      "第2500次，准确率为：1.0\n",
      "第2600次，准确率为：1.0\n",
      "第2700次，准确率为：1.0\n",
      "第2800次，准确率为：1.0\n",
      "第2900次，准确率为：1.0\n"
     ]
    }
   ],
   "source": [
    "# Create the model\n",
    "# 权值初始化改变\n",
    "x = tf.placeholder(tf.float32, [None, 784])\n",
    "w_h = tf.Variable(tf.truncated_normal([784, 512],stddev=0.1))\n",
    "b_h = tf.Variable(tf.constant(0.1,shape=[512]))\n",
    "w_o = tf.Variable(tf.truncated_normal([512, 10],stddev=0.1))\n",
    "b_o = tf.Variable(tf.constant(0.1,shape=[10]))\n",
    "h = tf.nn.relu(tf.matmul(x,w_h) + b_h)\n",
    "y = tf.matmul(h, w_o) + b_o\n",
    "# Define loss and optimizer\n",
    "y_ = tf.placeholder(tf.float32, [None, 10])\n",
    "# 计算交叉熵\n",
    "cross_entropy=tf.reduce_mean(tf.nn.softmax_cross_entropy_with_logits(labels=y_,logits=y))+tf.contrib.layers.l2_regularizer(0.00001)(w_h)+tf.contrib.layers.l2_regularizer(0.00001)(w_o)\n",
    "#生成训练的一个step\n",
    "train_step = tf.train.GradientDescentOptimizer(0.5).minimize(cross_entropy)\n",
    "\n",
    "sess = tf.Session()\n",
    "init_op = tf.global_variables_initializer()\n",
    "sess.run(init_op)\n",
    "# 训练数据\n",
    "step = 0\n",
    "# while True:\n",
    "for step in range(3000):\n",
    "    batch_xs, batch_ys = mnist.train.next_batch(100)\n",
    "    sess.run(train_step, feed_dict={x: batch_xs, y_: batch_ys})\n",
    "    #每迭代100次输出指标\n",
    "    if step%100 == 0:\n",
    "        correct_prediction = tf.equal(tf.argmax(y, 1), tf.argmax(y_, 1))\n",
    "        accuracy = tf.reduce_mean(tf.cast(correct_prediction, tf.float32))\n",
    "        accuracy_value = sess.run(accuracy, feed_dict={x: batch_xs, y_: batch_ys})\n",
    "        print(\"第{}次，准确率为：{}\".format(step,accuracy_value))"
   ]
  },
  {
   "cell_type": "code",
   "execution_count": 48,
   "metadata": {},
   "outputs": [
    {
     "name": "stdout",
     "output_type": "stream",
     "text": [
      "0.9785\n"
     ]
    }
   ],
   "source": [
    "# 测试模型\n",
    "correct_prediction = tf.equal(tf.argmax(y, 1), tf.argmax(y_, 1))\n",
    "accuracy = tf.reduce_mean(tf.cast(correct_prediction, tf.float32))\n",
    "print(sess.run(accuracy, feed_dict={x: mnist.test.images, y_: mnist.test.labels}))"
   ]
  },
  {
   "cell_type": "markdown",
   "metadata": {},
   "source": [
    "#### 正则超参数0.0001与0.001都不如0.0001"
   ]
  },
  {
   "cell_type": "markdown",
   "metadata": {},
   "source": [
    "### 将学习率由常数修改为随着时间呈下降"
   ]
  },
  {
   "cell_type": "code",
   "execution_count": 53,
   "metadata": {},
   "outputs": [
    {
     "name": "stdout",
     "output_type": "stream",
     "text": [
      "第0次，准确率为：0.14000000059604645\n",
      "第100次，准确率为：0.9800000190734863\n",
      "第200次，准确率为：0.9800000190734863\n",
      "第300次，准确率为：1.0\n",
      "第400次，准确率为：0.9900000095367432\n",
      "第500次，准确率为：0.9900000095367432\n",
      "第600次，准确率为：0.9900000095367432\n",
      "第700次，准确率为：1.0\n",
      "第800次，准确率为：0.9900000095367432\n",
      "第900次，准确率为：0.9900000095367432\n",
      "第1000次，准确率为：0.9900000095367432\n",
      "第1100次，准确率为：1.0\n",
      "第1200次，准确率为：1.0\n",
      "第1300次，准确率为：1.0\n",
      "第1400次，准确率为：1.0\n",
      "第1500次，准确率为：1.0\n",
      "第1600次，准确率为：1.0\n",
      "第1700次，准确率为：1.0\n",
      "第1800次，准确率为：1.0\n",
      "第1900次，准确率为：1.0\n",
      "第2000次，准确率为：1.0\n",
      "第2100次，准确率为：1.0\n",
      "第2200次，准确率为：1.0\n",
      "第2300次，准确率为：1.0\n",
      "第2400次，准确率为：1.0\n",
      "第2500次，准确率为：1.0\n",
      "第2600次，准确率为：1.0\n",
      "第2700次，准确率为：1.0\n",
      "第2800次，准确率为：1.0\n",
      "第2900次，准确率为：1.0\n"
     ]
    }
   ],
   "source": [
    "# 权值初始化改变\n",
    "x = tf.placeholder(tf.float32, [None, 784])\n",
    "w_h = tf.Variable(tf.truncated_normal([784, 512],stddev=0.1))\n",
    "b_h = tf.Variable(tf.constant(0.1,shape=[512]))\n",
    "w_o = tf.Variable(tf.truncated_normal([512, 10],stddev=0.1))\n",
    "b_o = tf.Variable(tf.constant(0.1,shape=[10]))\n",
    "h = tf.nn.relu(tf.matmul(x,w_h) + b_h)\n",
    "y = tf.matmul(h, w_o) + b_o\n",
    "# Define loss and optimizer\n",
    "y_ = tf.placeholder(tf.float32, [None, 10])\n",
    "# 计算交叉熵\n",
    "cross_entropy=tf.reduce_mean(tf.nn.softmax_cross_entropy_with_logits(labels=y_,logits=y))+tf.contrib.layers.l2_regularizer(0.0001)(w_h)+tf.contrib.layers.l2_regularizer(0.0001)(w_o)\n",
    "#生成训练的一个step\n",
    "learning_rate_base = 0.8\n",
    "global_step=tf.Variable(0,trainable=False)\n",
    "dataSize = mnist.train.num_examples\n",
    "batch_size = 100\n",
    "learning_rate_decay=0.99\n",
    "learning_rate = tf.train.exponential_decay(learning_rate_base,global_step,dataSize/batch_size,learning_rate_decay,staircase=False)\n",
    "train_step = tf.train.GradientDescentOptimizer(learning_rate).minimize(cross_entropy)\n",
    "\n",
    "sess = tf.Session()\n",
    "init_op = tf.global_variables_initializer()\n",
    "sess.run(init_op)\n",
    "# 训练数据\n",
    "step = 0\n",
    "# while True:\n",
    "for step in range(3000):\n",
    "    batch_xs, batch_ys = mnist.train.next_batch(100)\n",
    "    sess.run(train_step, feed_dict={x: batch_xs, y_: batch_ys})\n",
    "    #每迭代100次输出指标\n",
    "    if step%100 == 0:\n",
    "        correct_prediction = tf.equal(tf.argmax(y, 1), tf.argmax(y_, 1))\n",
    "        accuracy = tf.reduce_mean(tf.cast(correct_prediction, tf.float32))\n",
    "        accuracy_value = sess.run(accuracy, feed_dict={x: batch_xs, y_: batch_ys})\n",
    "        print(\"第{}次，准确率为：{}\".format(step,accuracy_value))"
   ]
  },
  {
   "cell_type": "code",
   "execution_count": 54,
   "metadata": {},
   "outputs": [
    {
     "name": "stdout",
     "output_type": "stream",
     "text": [
      "0.979\n"
     ]
    }
   ],
   "source": [
    "# 测试模型\n",
    "correct_prediction = tf.equal(tf.argmax(y, 1), tf.argmax(y_, 1))\n",
    "accuracy = tf.reduce_mean(tf.cast(correct_prediction, tf.float32))\n",
    "print(sess.run(accuracy, feed_dict={x: mnist.test.images, y_: mnist.test.labels}))"
   ]
  },
  {
   "cell_type": "code",
   "execution_count": 61,
   "metadata": {},
   "outputs": [
    {
     "name": "stdout",
     "output_type": "stream",
     "text": [
      "第0次，准确率为：0.3199999928474426\n",
      "第100次，准确率为：0.9599999785423279\n",
      "第200次，准确率为：0.9800000190734863\n",
      "第300次，准确率为：1.0\n",
      "第400次，准确率为：0.9800000190734863\n",
      "第500次，准确率为：0.9800000190734863\n",
      "第600次，准确率为：1.0\n",
      "第700次，准确率为：1.0\n",
      "第800次，准确率为：1.0\n",
      "第900次，准确率为：1.0\n",
      "第1000次，准确率为：1.0\n",
      "第1100次，准确率为：1.0\n",
      "第1200次，准确率为：1.0\n",
      "第1300次，准确率为：1.0\n",
      "第1400次，准确率为：1.0\n",
      "第1500次，准确率为：1.0\n",
      "第1600次，准确率为：1.0\n",
      "第1700次，准确率为：1.0\n",
      "第1800次，准确率为：1.0\n",
      "第1900次，准确率为：0.9900000095367432\n",
      "第2000次，准确率为：1.0\n",
      "第2100次，准确率为：1.0\n",
      "第2200次，准确率为：1.0\n",
      "第2300次，准确率为：1.0\n",
      "第2400次，准确率为：1.0\n",
      "第2500次，准确率为：1.0\n",
      "第2600次，准确率为：1.0\n",
      "第2700次，准确率为：1.0\n",
      "第2800次，准确率为：1.0\n",
      "第2900次，准确率为：1.0\n"
     ]
    }
   ],
   "source": [
    "# 权值初始化改变\n",
    "x = tf.placeholder(tf.float32, [None, 784])\n",
    "w_h = tf.Variable(tf.truncated_normal([784, 512],stddev=0.1))\n",
    "b_h = tf.Variable(tf.constant(0.1,shape=[512]))\n",
    "w_o = tf.Variable(tf.truncated_normal([512, 10],stddev=0.1))\n",
    "b_o = tf.Variable(tf.constant(0.1,shape=[10]))\n",
    "h = tf.nn.relu(tf.matmul(x,w_h) + b_h)\n",
    "y = tf.matmul(h, w_o) + b_o\n",
    "# Define loss and optimizer\n",
    "y_ = tf.placeholder(tf.float32, [None, 10])\n",
    "# 计算交叉熵\n",
    "cross_entropy=tf.reduce_mean(tf.nn.softmax_cross_entropy_with_logits(labels=y_,logits=y))+tf.contrib.layers.l2_regularizer(0.0001)(w_h)+tf.contrib.layers.l2_regularizer(0.0001)(w_o)\n",
    "#生成训练的一个step\n",
    "learning_rate_base = 0.8\n",
    "global_step=tf.Variable(0,trainable=False)\n",
    "dataSize = mnist.train.num_examples\n",
    "batch_size = 100\n",
    "learning_rate_decay=0.99\n",
    "learning_rate = tf.train.exponential_decay(learning_rate_base,global_step,dataSize/batch_size,learning_rate_decay,staircase=False)\n",
    "train_step = tf.train.GradientDescentOptimizer(learning_rate).minimize(cross_entropy)\n",
    "\n",
    "sess = tf.Session()\n",
    "init_op = tf.global_variables_initializer()\n",
    "sess.run(init_op)\n",
    "# 训练数据\n",
    "step = 0\n",
    "# while True:\n",
    "for step in range(3000):\n",
    "    batch_xs, batch_ys = mnist.train.next_batch(100)\n",
    "    sess.run(train_step, feed_dict={x: batch_xs, y_: batch_ys})\n",
    "    #每迭代100次输出指标\n",
    "    if step%100 == 0:\n",
    "        correct_prediction = tf.equal(tf.argmax(y, 1), tf.argmax(y_, 1))\n",
    "        accuracy = tf.reduce_mean(tf.cast(correct_prediction, tf.float32))\n",
    "        accuracy_value = sess.run(accuracy, feed_dict={x: batch_xs, y_: batch_ys})\n",
    "        print(\"第{}次，准确率为：{}\".format(step,accuracy_value))"
   ]
  },
  {
   "cell_type": "code",
   "execution_count": 62,
   "metadata": {},
   "outputs": [
    {
     "name": "stdout",
     "output_type": "stream",
     "text": [
      "0.9811\n"
     ]
    }
   ],
   "source": [
    "# 测试模型\n",
    "correct_prediction = tf.equal(tf.argmax(y, 1), tf.argmax(y_, 1))\n",
    "accuracy = tf.reduce_mean(tf.cast(correct_prediction, tf.float32))\n",
    "print(sess.run(accuracy, feed_dict={x: mnist.test.images, y_: mnist.test.labels}))"
   ]
  },
  {
   "cell_type": "markdown",
   "metadata": {},
   "source": [
    "### 训练和测试都达到了0.98以上"
   ]
  },
  {
   "cell_type": "code",
   "execution_count": null,
   "metadata": {},
   "outputs": [],
   "source": []
  }
 ],
 "metadata": {
  "kernelspec": {
   "display_name": "Python 3",
   "language": "python",
   "name": "python3"
  },
  "language_info": {
   "codemirror_mode": {
    "name": "ipython",
    "version": 3
   },
   "file_extension": ".py",
   "mimetype": "text/x-python",
   "name": "python",
   "nbconvert_exporter": "python",
   "pygments_lexer": "ipython3",
   "version": "3.5.2"
  }
 },
 "nbformat": 4,
 "nbformat_minor": 2
}
